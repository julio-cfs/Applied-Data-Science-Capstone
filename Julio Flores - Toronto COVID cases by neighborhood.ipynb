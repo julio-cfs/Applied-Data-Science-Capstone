{
    "cells": [
        {
            "cell_type": "markdown",
            "metadata": {},
            "source": "# Toronto COVID cases by neighborhood"
        },
        {
            "cell_type": "markdown",
            "metadata": {
                "collapsed": true
            },
            "source": "##  Introduction/Business Problem"
        },
        {
            "cell_type": "markdown",
            "metadata": {},
            "source": "In the course of the COVID pandemic, all goverments implemented several rules and restrictions in order to mitigate the outbreaks of the disease, these restrictions were usually defined based on the type of business and industry of the venues.\n\nIn this notebook I will try to rate the efficacy of the restrictions put in place by the goverment in the city of Toronto, by analizying the data of the total COVID cases and the type of venues, all segmented by Postal Code and neighborhood.\n\nThe target audience would be all the involved goverment dependenciees (Commerce, Health, City Planning) which could determine if the imposed restrictions did work and if any of these should be kept in place. Also to define a workbook for future pandemics. "
        },
        {
            "cell_type": "markdown",
            "metadata": {},
            "source": "## Data"
        },
        {
            "cell_type": "markdown",
            "metadata": {},
            "source": "**COVID-19 Cases in Toronto**\n\nFor the COVID cases in Toronto I will use the dataset provided by the Toronto city goverment in their Open Data portal:\nhttps://open.toronto.ca/dataset/covid-19-cases-in-toronto/\n\nAn example of the dataset is below, wihch includes all the requiered features for the analysis (age, postal code, neighborhood)\n\n_id  | Assigned_ID |Outbreak Associated | Age Group | Neighbourhood Name | FSA | Source of Infection | Classification | Episode Date | Reported Date | Client Gender | Outcome | Currently Hospitalized | Currently in ICU | Currently Intubated | Ever Hospitalized | Ever in ICU | Ever Intubated\n-----|-----|-----|-----|-----|-----|-----|-----|-----|-----|-----|-----|-----|-----|-----|-----|-----|-----\n3326211 |99865 |Sporadic| 19 and younger| Thorncliffe Park| M4H| Household Contact| CONFIRMED| 2021-02-24| 2021-02-25| FEMALE| RESOLVED| No| No| No |  No |  No |  No\n3326212 |  99866 |  Sporadic |  40 to 49 Years |  Taylor-Massey |  M4C |  Household Contact |  CONFIRMED |  2021-02-24 |  2021-02-25 |  FEMALE |  RESOLVED |  No |  No |  No |  No |  No |  No \n\n\n**Toronto neighborhood data**\n\nI will continue to use the neighborhood data from the wikipedia page which was used in the previous weeks:\nhttps://en.wikipedia.org/wiki/List_of_postal_codes_of_Canada:_M\n\nUsing this data and the geocoder library, I will create a dataset with the following features:\n\nPostalCode | Borough | Neighborhood | Latitude | Longitude\n-----|-----|-----|-----|-----\nM3A | North York | Parkwoods | 43.75245 | -79.32991\nM4A | North York | Victoria Village | 43.73057 | -79.31306\n\n**Foursquare API**\n\nI will use the Foursquare API to gather the data of venues by neighborhood and define the most popular categories in each neighborhood"
        },
        {
            "cell_type": "code",
            "execution_count": null,
            "metadata": {},
            "outputs": [],
            "source": ""
        },
        {
            "cell_type": "code",
            "execution_count": null,
            "metadata": {},
            "outputs": [],
            "source": ""
        }
    ],
    "metadata": {
        "kernelspec": {
            "display_name": "Python 3.7",
            "language": "python",
            "name": "python3"
        },
        "language_info": {
            "codemirror_mode": {
                "name": "ipython",
                "version": 3
            },
            "file_extension": ".py",
            "mimetype": "text/x-python",
            "name": "python",
            "nbconvert_exporter": "python",
            "pygments_lexer": "ipython3",
            "version": "3.7.10"
        }
    },
    "nbformat": 4,
    "nbformat_minor": 1
}