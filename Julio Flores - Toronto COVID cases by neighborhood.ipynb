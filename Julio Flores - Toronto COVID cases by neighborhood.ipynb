{
    "cells": [
        {
            "cell_type": "markdown",
            "metadata": {},
            "source": "# Toronto COVID cases by neighborhood"
        },
        {
            "cell_type": "markdown",
            "metadata": {
                "collapsed": true
            },
            "source": "##  Introduction/Business Problem"
        },
        {
            "cell_type": "markdown",
            "metadata": {},
            "source": "In the course of the COVID pandemic, all goverments implemented several rules and restrictions in order to mitigate the outbreaks of the disease, these restrictions were usually defined based on the type of business and industry of the venues.\n\nIn this notebook I will try to rate the efficacy of the restrictions put in place by the goverment in the city of Toronto, by analizying the data of the total COVID cases and the type of venues, all segmented by Postal Code and neighborhood."
        },
        {
            "cell_type": "markdown",
            "metadata": {},
            "source": "## Data"
        },
        {
            "cell_type": "markdown",
            "metadata": {},
            "source": "**COVID-19 Cases in Toronto**\nFor the COVID cases in Toronto I will use the dataset provided by the Toronto city goverment in their Open Data portal:\nhttps://open.toronto.ca/dataset/covid-19-cases-in-toronto/\n\n**Toronto neighborhood data**\nI will continue to use the neighborhood data from the wikipedia page which was used in the previous weeks:\nhttps://en.wikipedia.org/wiki/List_of_postal_codes_of_Canada:_M\n\n**Foursquare API**\nI will use the Foursquare API to gather the data of venues by neighborhood"
        },
        {
            "cell_type": "code",
            "execution_count": null,
            "metadata": {},
            "outputs": [],
            "source": ""
        },
        {
            "cell_type": "code",
            "execution_count": null,
            "metadata": {},
            "outputs": [],
            "source": ""
        }
    ],
    "metadata": {
        "kernelspec": {
            "display_name": "Python 3.7",
            "language": "python",
            "name": "python3"
        },
        "language_info": {
            "codemirror_mode": {
                "name": "ipython",
                "version": 3
            },
            "file_extension": ".py",
            "mimetype": "text/x-python",
            "name": "python",
            "nbconvert_exporter": "python",
            "pygments_lexer": "ipython3",
            "version": "3.7.10"
        }
    },
    "nbformat": 4,
    "nbformat_minor": 1
}